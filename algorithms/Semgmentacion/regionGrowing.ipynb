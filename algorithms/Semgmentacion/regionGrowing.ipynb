{
 "cells": [
  {
   "cell_type": "code",
   "execution_count": 2,
   "metadata": {},
   "outputs": [],
   "source": [
    "import nibabel as nib\n",
    "import numpy as np\n",
    "import matplotlib.pyplot as plt\n",
    "\n",
    "image_data = nib.load('../images/FLAIR.nii.gz')\n",
    "image = image_data.get_fdata()"
   ]
  },
  {
   "cell_type": "code",
   "execution_count": 3,
   "metadata": {},
   "outputs": [],
   "source": [
    "def region_growing(image, seeds, tol=3, max_iter=100):\n",
    "    \"\"\"\n",
    "    Realiza la segmentación de una imagen utilizando el algoritmo de region growing.\n",
    "    \n",
    "    Args:\n",
    "        image (numpy array): Matriz que representa la imagen a segmentar.\n",
    "        seeds (list of tuples): Lista de coordenadas (x, y, z) que se utilizan como semillas\n",
    "                                para iniciar la segmentación.\n",
    "        tol (float): Tolerancia para la comparación de los valores de los píxeles.\n",
    "        max_iter (int): Número máximo de iteraciones a realizar.\n",
    "    \n",
    "    Returns:\n",
    "        segmentation (numpy array): Matriz que representa la segmentación de la imagen.\n",
    "    \"\"\"\n",
    "    segmentation = np.zeros_like(image)\n",
    "    queue = list(seeds)\n",
    "    mean_cluster = image[seeds].mean()\n",
    "    prev_mean_cluster = mean_cluster\n",
    "    iter_count = 0\n",
    "    \n",
    "    while queue and iter_count < max_iter:\n",
    "        curr_pixel = queue.pop(0)\n",
    "        curr_value = image[curr_pixel]\n",
    "        \n",
    "        if np.abs(curr_value - mean_cluster) < tol and segmentation[curr_pixel] == 0:\n",
    "            segmentation[curr_pixel] = 1\n",
    "            queue += [(curr_pixel[0]+dx, curr_pixel[1]+dy, curr_pixel[2]+dz)\n",
    "                      for dx in [-1, 0, 1] for dy in [-1, 0, 1] for dz in [-1, 0, 1]\n",
    "                      if (0 <= curr_pixel[0]+dx < image.shape[0] and\n",
    "                          0 <= curr_pixel[1]+dy < image.shape[1] and\n",
    "                          0 <= curr_pixel[2]+dz < image.shape[2])]\n",
    "            mean_cluster = image[segmentation == 1].mean()\n",
    "            if abs(prev_mean_cluster - mean_cluster) < tol:\n",
    "                break\n",
    "            prev_mean_cluster = mean_cluster\n",
    "            iter_count += 1\n",
    "    \n",
    "    return segmentation"
   ]
  },
  {
   "cell_type": "code",
   "execution_count": 4,
   "metadata": {},
   "outputs": [
    {
     "data": {
      "text/plain": [
       "<matplotlib.image.AxesImage at 0x1a2d929e850>"
      ]
     },
     "execution_count": 4,
     "metadata": {},
     "output_type": "execute_result"
    },
    {
     "data": {
      "image/png": "[encoded data removed]",
      "text/plain": [
       "<Figure size 640x480 with 1 Axes>"
      ]
     },
     "metadata": {},
     "output_type": "display_data"
    }
   ],
   "source": [
    "segmentation = region_growing(image, [(10, 20, 5), (20, 30, 10), (40, 30, 20)])\n",
    "plt.imshow(segmentation[:, :, 20])"
   ]
  }
 ],
 "metadata": {
  "kernelspec": {
   "display_name": "env",
   "language": "python",
   "name": "python3"
  },
  "language_info": {
   "codemirror_mode": {
    "name": "ipython",
    "version": 3
   },
   "file_extension": ".py",
   "mimetype": "text/x-python",
   "name": "python",
   "nbconvert_exporter": "python",
   "pygments_lexer": "ipython3",
   "version": "3.11.3"
  },
  "orig_nbformat": 4
 },
 "nbformat": 4,
 "nbformat_minor": 2
}
